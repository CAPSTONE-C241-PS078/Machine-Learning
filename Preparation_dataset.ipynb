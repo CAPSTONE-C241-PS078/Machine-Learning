{
  "nbformat": 4,
  "nbformat_minor": 0,
  "metadata": {
    "colab": {
      "provenance": []
    },
    "kernelspec": {
      "name": "python3",
      "display_name": "Python 3"
    },
    "language_info": {
      "name": "python"
    }
  },
  "cells": [
    {
      "cell_type": "code",
      "execution_count": 27,
      "metadata": {
        "colab": {
          "base_uri": "https://localhost:8080/"
        },
        "id": "u-aygEQ_5gd6",
        "outputId": "fa423c5b-a1a8-4b99-882a-4585a3639486"
      },
      "outputs": [
        {
          "output_type": "stream",
          "name": "stdout",
          "text": [
            "Drive already mounted at /content/drive; to attempt to forcibly remount, call drive.mount(\"/content/drive\", force_remount=True).\n"
          ]
        }
      ],
      "source": [
        "from google.colab import drive\n",
        "drive.mount('/content/drive')"
      ]
    },
    {
      "cell_type": "code",
      "source": [
        "import os\n",
        "from tensorflow.keras.preprocessing.image import ImageDataGenerator, img_to_array, load_img\n",
        "import numpy as np\n",
        "import shutil\n",
        "import random"
      ],
      "metadata": {
        "id": "KarZMuXof2VQ"
      },
      "execution_count": 28,
      "outputs": []
    },
    {
      "cell_type": "markdown",
      "source": [
        "# Augmenting additional data and combining with spliiting data"
      ],
      "metadata": {
        "id": "ccgSIKOosl7r"
      }
    },
    {
      "cell_type": "code",
      "source": [
        "ROOT_PATH = \"/content/drive/MyDrive/Bangkit 2024\"\n",
        "DATASET_PATH = f\"{ROOT_PATH}/Split_Augmentation/Dataset\"\n",
        "TRAINING_PATH = f\"{ROOT_PATH}/train/Mature\"\n",
        "TEST_PATH = f\"{ROOT_PATH}/test/Mature\"\n",
        "VALIDATION_PATH = f\"{ROOT_PATH}/valid/Mature\"\n",
        "MATURE_PATH = f\"{ROOT_PATH}/Additional mature data\""
      ],
      "metadata": {
        "id": "BYj3M8PXHTFe"
      },
      "execution_count": 29,
      "outputs": []
    },
    {
      "cell_type": "code",
      "source": [
        "# Function for image augmentation\n",
        "def augment_image(image_path, save_to_dir, datagen, prefix):\n",
        "    img = load_img(image_path)  # Read image\n",
        "    x = img_to_array(img)  # Image to array conversion\n",
        "    x = np.expand_dims(x, axis=0)\n",
        "    i = 0\n",
        "    for batch in datagen.flow(x, batch_size=1, save_to_dir=save_to_dir, save_prefix=prefix, save_format='jpeg'):\n",
        "        i += 1\n",
        "        if i > 5:  # Augmentation of 5 images per original image\n",
        "            break\n"
      ],
      "metadata": {
        "id": "XW424K7jgIS1"
      },
      "execution_count": 30,
      "outputs": []
    },
    {
      "cell_type": "code",
      "source": [
        "# Set ImageDataGenerator for augmentation\n",
        "datagen = ImageDataGenerator(rotation_range=40, width_shift_range=0.2, height_shift_range=0.2, shear_range=0.2, zoom_range=0.2, horizontal_flip=True, fill_mode='nearest')"
      ],
      "metadata": {
        "id": "uR8NaM3TLSoy"
      },
      "execution_count": 31,
      "outputs": []
    },
    {
      "cell_type": "code",
      "source": [
        "# Create a directory to store temporary augmented images\n",
        "TEMP_AUGMENT_DIR = f\"{ROOT_PATH}/Temp_Augment\"\n",
        "os.makedirs(TEMP_AUGMENT_DIR, exist_ok=True)"
      ],
      "metadata": {
        "id": "D54z-CnlLV-R"
      },
      "execution_count": 32,
      "outputs": []
    },
    {
      "cell_type": "code",
      "source": [
        "# Image augmentation in 'mature' class\n",
        "for filename in os.listdir(MATURE_PATH):\n",
        "    file_path = os.path.join(MATURE_PATH, filename)\n",
        "    augment_image(file_path, TEMP_AUGMENT_DIR, datagen, 'Mature_aug')"
      ],
      "metadata": {
        "id": "FGkq9nrMNgzD"
      },
      "execution_count": 33,
      "outputs": []
    },
    {
      "cell_type": "code",
      "source": [
        "# Determine the proportion of data for train, test, and valid\n",
        "def assign_to_set():\n",
        "    r = random.random()\n",
        "    if r < 0.8:\n",
        "        return TRAINING_PATH\n",
        "    elif r < 0.9:\n",
        "        return VALIDATION_PATH\n",
        "    else:\n",
        "        return TEST_PATH"
      ],
      "metadata": {
        "id": "c5VtNO_Ok2H7"
      },
      "execution_count": 34,
      "outputs": []
    },
    {
      "cell_type": "code",
      "source": [
        "# Move the augmented image to the appropriate directory\n",
        "for augmented_file in os.listdir(TEMP_AUGMENT_DIR):\n",
        "    src_path = os.path.join(TEMP_AUGMENT_DIR, augmented_file)\n",
        "    dest_dir = assign_to_set()\n",
        "    dest_path = os.path.join(dest_dir, augmented_file)\n",
        "    os.makedirs(os.path.dirname(dest_path), exist_ok=True)\n",
        "    shutil.move(src_path, dest_path)"
      ],
      "metadata": {
        "id": "519gcKZORWTs"
      },
      "execution_count": 35,
      "outputs": []
    },
    {
      "cell_type": "code",
      "source": [
        "# Delete temporary directory\n",
        "shutil.rmtree(TEMP_AUGMENT_DIR)"
      ],
      "metadata": {
        "id": "tMEwMAnplFE7"
      },
      "execution_count": 36,
      "outputs": []
    },
    {
      "cell_type": "code",
      "source": [
        "print(\"Data augmentation and merging is complete.\")"
      ],
      "metadata": {
        "id": "_28HUhxSRb_A",
        "colab": {
          "base_uri": "https://localhost:8080/"
        },
        "outputId": "71fc6dbf-15ce-485c-dfb0-6e8e26122a73"
      },
      "execution_count": 37,
      "outputs": [
        {
          "output_type": "stream",
          "name": "stdout",
          "text": [
            "Data augmentation and merging is complete.\n"
          ]
        }
      ]
    },
    {
      "cell_type": "markdown",
      "source": [
        "# Analyze Dataset"
      ],
      "metadata": {
        "id": "hul35q1Es2TI"
      }
    },
    {
      "cell_type": "code",
      "source": [
        "ROOT_PATH = \"/content/drive/MyDrive/Bangkit 2024/Split_Augmentation/Dataset\"\n",
        "TRAINING_PATH = f\"{ROOT_PATH}/train\"\n",
        "TEST_PATH = f\"{ROOT_PATH}/test\"\n",
        "VALIDATION_PATH = f\"{ROOT_PATH}/valid\""
      ],
      "metadata": {
        "id": "YzN5rnB-tKv6"
      },
      "execution_count": 44,
      "outputs": []
    },
    {
      "cell_type": "code",
      "source": [
        "classes = ['Normal', 'Immature', 'Mature']"
      ],
      "metadata": {
        "id": "ZAQ3RbF1r1bd"
      },
      "execution_count": 45,
      "outputs": []
    },
    {
      "cell_type": "code",
      "source": [
        "def check_dataset(PATH, classes):\n",
        "  '''\n",
        "  Print number of images per class\n",
        "  and total of images\n",
        "  '''\n",
        "  num_files = 0\n",
        "  for cls in classes:\n",
        "    length = len(os.listdir(os.path.join(PATH, cls)))\n",
        "    print(f\"Number of images for {cls}: {length}\")\n",
        "    num_files += length\n",
        "  print(\"=\"*15)\n",
        "  print(\"Number of images total:\", num_files)"
      ],
      "metadata": {
        "id": "Y4q0CWl7rq7V"
      },
      "execution_count": 46,
      "outputs": []
    },
    {
      "cell_type": "code",
      "source": [
        "check_dataset(TRAINING_PATH, classes)"
      ],
      "metadata": {
        "colab": {
          "base_uri": "https://localhost:8080/"
        },
        "id": "_JTcNhfer_N8",
        "outputId": "3825ea77-a85e-4126-ebd1-7d9188aeb647"
      },
      "execution_count": 47,
      "outputs": [
        {
          "output_type": "stream",
          "name": "stdout",
          "text": [
            "Number of images for Normal: 1304\n",
            "Number of images for Immature: 1125\n",
            "Number of images for Mature: 1437\n",
            "===============\n",
            "Number of images total: 3866\n"
          ]
        }
      ]
    },
    {
      "cell_type": "code",
      "source": [
        "check_dataset(TEST_PATH, classes)"
      ],
      "metadata": {
        "colab": {
          "base_uri": "https://localhost:8080/"
        },
        "id": "gomNYiBAt5_a",
        "outputId": "5daa5e42-e54a-43dd-ee2f-d4ae57eae51d"
      },
      "execution_count": 48,
      "outputs": [
        {
          "output_type": "stream",
          "name": "stdout",
          "text": [
            "Number of images for Normal: 458\n",
            "Number of images for Immature: 378\n",
            "Number of images for Mature: 445\n",
            "===============\n",
            "Number of images total: 1281\n"
          ]
        }
      ]
    },
    {
      "cell_type": "code",
      "source": [
        "check_dataset(VALIDATION_PATH, classes)"
      ],
      "metadata": {
        "colab": {
          "base_uri": "https://localhost:8080/"
        },
        "id": "sRbtHE4vt_A8",
        "outputId": "0371bfd4-e73c-4891-c4a0-68bc0781a50a"
      },
      "execution_count": 49,
      "outputs": [
        {
          "output_type": "stream",
          "name": "stdout",
          "text": [
            "Number of images for Normal: 421\n",
            "Number of images for Immature: 387\n",
            "Number of images for Mature: 449\n",
            "===============\n",
            "Number of images total: 1257\n"
          ]
        }
      ]
    }
  ]
}